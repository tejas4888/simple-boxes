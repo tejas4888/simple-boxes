{
 "cells": [
  {
   "cell_type": "markdown",
   "metadata": {},
   "source": [
    "# Playing with Boxes\n",
    "\n",
    "In this notebook, we will perform the following tasks in **pytorch as well as tensorflow**:\n",
    "1. Create a tensor representation of a box\n",
    "2. Represent specific boxes using your tensor representation\n",
    "3. Create a function which calculates the intersection of two boxes\n",
    "3. Create a differentiable function to compute \"soft\" volumes of boxes\n",
    "4. Train one box to contain another\n",
    "\n",
    "\n",
    "This notebook is intended to be self-contained, but you may find it beneficial to consult Section 3.1 to 3.4 in [Representing Joint Hierarchies with Box Embeddings](https://openreview.net/pdf?id=J246NSqR_l)."
   ]
  },
  {
   "cell_type": "markdown",
   "metadata": {
    "pycharm": {
     "name": "#%% md\n"
    }
   },
   "source": [
    "## 1. Create a box parameterization\n",
    "\n",
    "A \"box\" is a product of intervals in $\\mathbb R^n$, i.e.\n",
    "\n",
    "$$X = \\prod_{i=1}^d [x_{m,i}, x_{M,i}], \\quad \\text{where} \\quad x_{M,i} \\ge x_{m,i} \\quad \\text{ for all } \\quad i.$$\n",
    "\n",
    "However you would like, create a way of storing parameters which represent a box. Crucially, your parameterization should conform to the requirement above, namely any setting of your parameterization should represent a box that has positive side-lengths in each dimension, and you should be able to represent any box in $\\mathbb R^n$. Furthermore, you should be able to return the min and max coordinates (i.e. the $x_{m,i}, x_{M, i}$ above) for your box. \n",
    "\n",
    "**Hint**: It might be benificial to create a \"wrapper\" class that holds the tensor(s) corresponding to the parameters of the box."
   ]
  },
  {
   "cell_type": "code",
   "execution_count": 12,
   "metadata": {},
   "outputs": [],
   "source": [
    "import numpy as np\n",
    "# Box parameterization\n",
    "print(\"G\")"
   ]
  },
  {
   "cell_type": "markdown",
   "metadata": {
    "pycharm": {
     "name": "#%% md\n"
    }
   },
   "source": [
    "## 2. Represent Specific Boxes\n",
    "Using your chosen parameterization, represent a box `x` in $\\mathbb R^{100}$ which has side-lengths $2$ centered at $(-1,\\ldots, -1)$. \n",
    "Create another box `y` with min-coordinate $(1, \\frac 1 2, \\frac 1 3, \\ldots, \\frac 1 {100})$, and max-coordinate $(3 - \\frac 1 {100}, 3 - \\frac 1 {99}, \\ldots, 2)$.\n"
   ]
  },
  {
   "cell_type": "code",
   "execution_count": null,
   "metadata": {
    "pycharm": {
     "name": "#%%\n"
    }
   },
   "outputs": [],
   "source": [
    "# Represent a specific box"
   ]
  },
  {
   "cell_type": "markdown",
   "metadata": {
    "pycharm": {
     "name": "#%% md\n"
    }
   },
   "source": [
    "## 3. Create an Intersection Function\n",
    "\n",
    "The box intersection operation takes two boxes as input and returns their intersection. In one-dimension, this is as follows:\n",
    "\n",
    "$$\\text{Int}([x_m, x_M], [y_m, y_M]) = (\\max(x_m, y_m), \\min(x_M, y_M)).$$\n",
    "\n",
    "Generalize this to $n$-dimensions, and write an intersection function which operates on your box parameterization.\n",
    "\n",
    "Take the intersection of the two boxes `x` and `y` you created in step 2, and display the min and max coordinates of the intersection."
   ]
  },
  {
   "cell_type": "code",
   "execution_count": null,
   "metadata": {
    "pycharm": {
     "name": "#%%\n"
    }
   },
   "outputs": [],
   "source": [
    "# Intersection Function"
   ]
  },
  {
   "cell_type": "markdown",
   "metadata": {},
   "source": [
    "## 4. Create a \"Soft\" Volume Function\n",
    "The \"softplus volume\" of a box is defined as\n",
    "\n",
    "$$\\text{SoftVol}[X] = \\prod_{i=1}^d \\log(1 + \\exp(x_{M,i} - x_{m,i})).$$\n",
    "\n",
    "Create this volume function, and attempt to use it to determine which of the boxes `x` and `y` from part (2) are larger. What issues do you encounter? Can you mitigate these issues?"
   ]
  },
  {
   "cell_type": "code",
   "execution_count": null,
   "metadata": {
    "pycharm": {
     "name": "#%%\n"
    }
   },
   "outputs": [],
   "source": [
    "# Soft Volume Function"
   ]
  },
  {
   "cell_type": "markdown",
   "metadata": {
    "pycharm": {
     "name": "#%% md\n"
    }
   },
   "source": [
    "## 5. Training Boxes\n",
    "We say box $X$ contains box $Y$ if, for each dimension $i$, we have\n",
    "$$x_{m,i} < y_{m,i} < y_{M,i} < x_{M,i}.$$\n",
    "\n",
    "Freezing the coordinates of box `x` from earlier, use gradient-descent to train box `y` such that it is contained in `x`.\n",
    "\n",
    "**Hint:** Visualize typical boxes in 2-dimensions, and note that if a box $Y$ were contained in $X$ then $\\text{Vol}(\\text{Int}(X, Y)) = \\text{Vol}(Y)$.\n",
    "\n",
    "**Hint:** You can use/invent any loss function as long as it has a local minima that corresponds to satisfying the inequality given above."
   ]
  },
  {
   "cell_type": "code",
   "execution_count": null,
   "metadata": {
    "pycharm": {
     "name": "#%%\n"
    }
   },
   "outputs": [],
   "source": [
    "# Training boxes\n",
    "\n"
   ]
  }
 ],
 "metadata": {
  "kernelspec": {
   "display_name": "Python 3",
   "language": "python",
   "name": "python3"
  },
  "language_info": {
   "codemirror_mode": {
    "name": "ipython",
    "version": 3
   },
   "file_extension": ".py",
   "mimetype": "text/x-python",
   "name": "python",
   "nbconvert_exporter": "python",
   "pygments_lexer": "ipython3",
   "version": "3.8.6"
  }
 },
 "nbformat": 4,
 "nbformat_minor": 5
}
