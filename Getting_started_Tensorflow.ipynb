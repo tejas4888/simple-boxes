{
  "nbformat": 4,
  "nbformat_minor": 0,
  "metadata": {
    "kernelspec": {
      "display_name": "Python 3",
      "language": "python",
      "name": "python3"
    },
    "language_info": {
      "codemirror_mode": {
        "name": "ipython",
        "version": 3
      },
      "file_extension": ".py",
      "mimetype": "text/x-python",
      "name": "python",
      "nbconvert_exporter": "python",
      "pygments_lexer": "ipython3",
      "version": "3.8.6"
    },
    "colab": {
      "name": "Getting started-Tensorflow.ipynb",
      "provenance": [],
      "collapsed_sections": []
    }
  },
  "cells": [
    {
      "cell_type": "markdown",
      "metadata": {
        "id": "Oie8Zn1eoLh8"
      },
      "source": [
        "# Playing with Boxes\n",
        "\n",
        "In this notebook, we will perform the following tasks in **pytorch as well as tensorflow**:\n",
        "1. Create a tensor representation of a box\n",
        "2. Represent specific boxes using your tensor representation\n",
        "3. Create a function which calculates the intersection of two boxes\n",
        "3. Create a differentiable function to compute \"soft\" volumes of boxes\n",
        "4. Train one box to contain another\n",
        "\n",
        "\n",
        "This notebook is intended to be self-contained, but you may find it beneficial to consult Section 3.1 to 3.4 in [Representing Joint Hierarchies with Box Embeddings](https://openreview.net/pdf?id=J246NSqR_l)."
      ]
    },
    {
      "cell_type": "markdown",
      "metadata": {
        "pycharm": {
          "name": "#%% md\n"
        },
        "id": "4x_h-ISKoLiL"
      },
      "source": [
        "## 1. Create a box parameterization\n",
        "\n",
        "A \"box\" is a product of intervals in $\\mathbb R^n$, i.e.\n",
        "\n",
        "$$X = \\prod_{i=1}^d [x_{m,i}, x_{M,i}], \\quad \\text{where} \\quad x_{M,i} \\ge x_{m,i} \\quad \\text{ for all } \\quad i.$$\n",
        "\n",
        "However you would like, create a way of storing parameters which represent a box. Crucially, your parameterization should conform to the requirement above, namely any setting of your parameterization should represent a box that has positive side-lengths in each dimension, and you should be able to represent any box in $\\mathbb R^n$. Furthermore, you should be able to return the min and max coordinates (i.e. the $x_{m,i}, x_{M, i}$ above) for your box. \n",
        "\n",
        "**Hint**: It might be benificial to create a \"wrapper\" class that holds the tensor(s) corresponding to the parameters of the box."
      ]
    },
    {
      "cell_type": "code",
      "metadata": {
        "id": "svag91CVoLiM",
        "colab": {
          "base_uri": "https://localhost:8080/"
        },
        "outputId": "792b2db4-25cb-4c1a-da5a-418f4e5274b0"
      },
      "source": [
        "import tensorflow as tf\n",
        "import numpy as np\n",
        "\n",
        "def box_class(x_min,x_max):\n",
        "    return tf.Variable([x_min,x_max],dtype=tf.float32)\n",
        "\n",
        "print(box_class([0,0],[1,1]))"
      ],
      "execution_count": 40,
      "outputs": [
        {
          "output_type": "stream",
          "text": [
            "<tf.Variable 'Variable:0' shape=(2, 2) dtype=float32, numpy=\n",
            "array([[0., 0.],\n",
            "       [1., 1.]], dtype=float32)>\n"
          ],
          "name": "stdout"
        }
      ]
    },
    {
      "cell_type": "markdown",
      "metadata": {
        "pycharm": {
          "name": "#%% md\n"
        },
        "id": "pdaK3sqEoLiO"
      },
      "source": [
        "## 2. Represent Specific Boxes\n",
        "Using your chosen parameterization, represent a box `x` in $\\mathbb R^{100}$ which has side-lengths $2$ centered at $(-1,\\ldots, -1)$. \n",
        "Create another box `y` with min-coordinate $(1, \\frac 1 2, \\frac 1 3, \\ldots, \\frac 1 {100})$, and max-coordinate $(3 - \\frac 1 {100}, 3 - \\frac 1 {99}, \\ldots, 2)$.\n"
      ]
    },
    {
      "cell_type": "code",
      "metadata": {
        "pycharm": {
          "name": "#%%\n"
        },
        "id": "mAlWwQczoLiO"
      },
      "source": [
        "# Represent a specific box\r\n",
        "box_length=2\r\n",
        "diff=box_length/2\r\n",
        "\r\n",
        "x_min=[-1-diff for _ in range(100)]\r\n",
        "x_max=[-1+diff for _ in range(100)]\r\n",
        "\r\n",
        "x = box_class(x_min,x_max)\r\n",
        "\r\n",
        "y_min=[]\r\n",
        "y_max=[]\r\n",
        "\r\n",
        "for i in range(1,101):\r\n",
        "    y_min.append(1/i)\r\n",
        "    y_max.append(3-(1/(101-i)))\r\n",
        "\r\n",
        "y = box_class(y_min,y_max)"
      ],
      "execution_count": 44,
      "outputs": []
    },
    {
      "cell_type": "markdown",
      "metadata": {
        "pycharm": {
          "name": "#%% md\n"
        },
        "id": "9t837lT6oLiP"
      },
      "source": [
        "## 3. Create an Intersection Function\n",
        "\n",
        "The box intersection operation takes two boxes as input and returns their intersection. In one-dimension, this is as follows:\n",
        "\n",
        "$$\\text{Int}([x_m, x_M], [y_m, y_M]) = (\\max(x_m, y_m), \\min(x_M, y_M)).$$\n",
        "\n",
        "Generalize this to $n$-dimensions, and write an intersection function which operates on your box parameterization.\n",
        "\n",
        "Take the intersection of the two boxes `x` and `y` you created in step 2, and display the min and max coordinates of the intersection."
      ]
    },
    {
      "cell_type": "code",
      "metadata": {
        "pycharm": {
          "name": "#%%\n"
        },
        "id": "ihBJONnIoLiQ"
      },
      "source": [
        "# Intersection Function\r\n",
        "def box_intersection(box1,box2):\r\n",
        "    return (tf.math.maximum(box1[0],box2[0]),tf.math.minimum(box1[1],box2[1]))"
      ],
      "execution_count": 45,
      "outputs": []
    },
    {
      "cell_type": "markdown",
      "metadata": {
        "id": "JQKu49XIoLiR"
      },
      "source": [
        "## 4. Create a \"Soft\" Volume Function\n",
        "The \"softplus volume\" of a box is defined as\n",
        "\n",
        "$$\\text{SoftVol}[X] = \\prod_{i=1}^d \\log(1 + \\exp(x_{M,i} - x_{m,i})).$$\n",
        "\n",
        "Create this volume function, and attempt to use it to determine which of the boxes `x` and `y` from part (2) are larger. What issues do you encounter? Can you mitigate these issues?"
      ]
    },
    {
      "cell_type": "code",
      "metadata": {
        "pycharm": {
          "name": "#%%\n"
        },
        "id": "99gsJDoloLiR",
        "colab": {
          "base_uri": "https://localhost:8080/"
        },
        "outputId": "494f82a0-0955-4757-a16c-607e4afe22bd"
      },
      "source": [
        "# Soft Volume Function\r\n",
        "def box_softvolume(box):\r\n",
        "    return tf.math.reduce_prod(tf.math.log(1+tf.math.exp(box[1]-box[0])))\r\n",
        "\r\n",
        "print(box_softvolume(x)) # returns 5.96e32\r\n",
        "print(box_softvolume(y)) # returns inf\r\n",
        "\r\n",
        "# Issue encountered is that the values returned are very large\r\n",
        "# With such large values it becomes difficult to compare volume\r\n",
        "# To mitigate this issue to certain extent we can derive intuition from gradient clipping\r\n",
        "# By choosing a hyperparameter 'c' we clip everything exceeding c to certain value d\r\n",
        "# This will help normalize the higher valued volumes for the boxes\r\n",
        "# Additionally there are also functions like tf.clip_by_global_norm/tf.clip_by_norm that can be looked into"
      ],
      "execution_count": 46,
      "outputs": [
        {
          "output_type": "stream",
          "text": [
            "tf.Tensor(5.9604763e+32, shape=(), dtype=float32)\n",
            "tf.Tensor(inf, shape=(), dtype=float32)\n"
          ],
          "name": "stdout"
        }
      ]
    },
    {
      "cell_type": "markdown",
      "metadata": {
        "pycharm": {
          "name": "#%% md\n"
        },
        "id": "tcET0o5qoLiS"
      },
      "source": [
        "## 5. Training Boxes\n",
        "We say box $X$ contains box $Y$ if, for each dimension $i$, we have\n",
        "$$x_{m,i} < y_{m,i} < y_{M,i} < x_{M,i}.$$\n",
        "\n",
        "Freezing the coordinates of box `x` from earlier, use gradient-descent to train box `y` such that it is contained in `x`.\n",
        "\n",
        "**Hint:** Visualize typical boxes in 2-dimensions, and note that if a box $Y$ were contained in $X$ then $\\text{Vol}(\\text{Int}(X, Y)) = \\text{Vol}(Y)$.\n",
        "\n",
        "**Hint:** You can use/invent any loss function as long as it has a local minima that corresponds to satisfying the inequality given above."
      ]
    },
    {
      "cell_type": "code",
      "metadata": {
        "pycharm": {
          "name": "#%%\n"
        },
        "id": "TE-D4gw5oLiS"
      },
      "source": [
        "# Training boxes\n",
        "def loss_function():\n",
        "    return y[0]-x[0] + x[1]-y[1]\n",
        "\n",
        "opt = tf.keras.optimizers.SGD(learning_rate=0.1)\n",
        "for i in range(50):\n",
        "\topt.minimize(loss_function, var_list=[y[0],y[1]])"
      ],
      "execution_count": null,
      "outputs": []
    },
    {
      "cell_type": "code",
      "metadata": {
        "id": "8A2relRgPD3e"
      },
      "source": [
        ""
      ],
      "execution_count": null,
      "outputs": []
    }
  ]
}